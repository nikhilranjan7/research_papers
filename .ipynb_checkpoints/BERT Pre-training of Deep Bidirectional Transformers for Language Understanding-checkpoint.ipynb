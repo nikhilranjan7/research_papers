{
 "cells": [
  {
   "cell_type": "markdown",
   "metadata": {},
   "source": [
    "# 1. Introduction"
   ]
  },
  {
   "cell_type": "markdown",
   "metadata": {},
   "source": [
    "[BERT](https://github.com/google-research/bert) - Bidirectional Encoder Representations from Transformers. Pre-trained language models have achieved high efficiency on sentence level tasks and token level tasks.\n",
    "\n",
    "Two existing techniques are (unidirectional):\n",
    "- Feature-based\n",
    "    - ELMo: Change of architecture for different downstream tasks\n",
    "- Fine-tuning\n",
    "    - OpenAI GPT: Fine-tuning all pre-trained parameters. This is left-to-right architecture i.e. every token can get information from previous seen tokens"
   ]
  },
  {
   "cell_type": "markdown",
   "metadata": {},
   "source": [
    "Unidirectional training is not optimal because tasks like question-answering need the whole context before prediction.\n",
    "\n",
    "BERT uses two different task as pretraining:\n",
    "- MLM (Masked language model): Here some tokens from the input are randomly masked and the goal is the predict the masked words ids given the masked sentence\n",
    "- Next Sentence Prediction: Text-pair representations"
   ]
  },
  {
   "cell_type": "markdown",
   "metadata": {},
   "source": [
    "# 2. Related Work"
   ]
  },
  {
   "cell_type": "markdown",
   "metadata": {},
   "source": [
    "### 2.1 Unsupervised Feature-based Approaches"
   ]
  },
  {
   "cell_type": "markdown",
   "metadata": {},
   "source": [
    "### 2.2 Unsupervised Fine-tuning Approaches"
   ]
  },
  {
   "cell_type": "markdown",
   "metadata": {},
   "source": [
    "### 2.3 Transfer Learning from Supervised Data"
   ]
  },
  {
   "cell_type": "markdown",
   "metadata": {},
   "source": [
    "# 3. Bert"
   ]
  },
  {
   "cell_type": "code",
   "execution_count": null,
   "metadata": {},
   "outputs": [],
   "source": []
  }
 ],
 "metadata": {
  "kernelspec": {
   "display_name": "pytorch",
   "language": "python",
   "name": "pytorch"
  },
  "language_info": {
   "codemirror_mode": {
    "name": "ipython",
    "version": 3
   },
   "file_extension": ".py",
   "mimetype": "text/x-python",
   "name": "python",
   "nbconvert_exporter": "python",
   "pygments_lexer": "ipython3",
   "version": "3.6.8"
  }
 },
 "nbformat": 4,
 "nbformat_minor": 2
}
